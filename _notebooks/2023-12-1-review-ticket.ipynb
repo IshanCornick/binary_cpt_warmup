{
 "cells": [
  {
   "cell_type": "markdown",
   "metadata": {},
   "source": [
    "---\n",
    "hide: False\n",
    "toc: False\n",
    "layout: notebook\n",
    "title: Review Ticket\n",
    "description: Review Ticket\n",
    "type: plans\n",
    "courses: { compsci: {week: 1} }\n",
    "---"
   ]
  }
 ],
 "metadata": {
  "language_info": {
   "name": "python"
  },
  "orig_nbformat": 4
 },
 "nbformat": 4,
 "nbformat_minor": 2
}
