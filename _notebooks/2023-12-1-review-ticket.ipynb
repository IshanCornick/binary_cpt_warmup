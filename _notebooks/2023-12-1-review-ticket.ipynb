{
 "cells": [
  {
   "cell_type": "markdown",
   "metadata": {},
   "source": [
    "---\n",
    "hide: False\n",
    "toc: False\n",
    "layout: notebook\n",
    "title: Review Ticket\n",
    "description: Review Ticket\n",
    "type: tangibles\n",
    "courses: { compsci: {week: 1} }\n",
    "---"
   ]
  },
  {
   "cell_type": "code",
   "execution_count": null,
   "metadata": {
    "vscode": {
     "languageId": "plaintext"
    }
   },
   "outputs": [],
   "source": [
    "Key commits:\n",
    "- Diagrams\n",
    "- Image Processor\n",
    "- Puzzle (not fully developed yet)\n",
    "- Logical Operations\n",
    "\n",
    "Improvements: \n",
    "- find ways to make encoding more efficient\n"
   ]
  },
  {
   "cell_type": "markdown",
   "metadata": {},
   "source": [
    "# Image Processor"
   ]
  },
  {
   "cell_type": "code",
   "execution_count": null,
   "metadata": {
    "vscode": {
     "languageId": "html"
    }
   },
   "outputs": [],
   "source": [
    "\n",
    "  <meta charset=\"UTF-8\">\n",
    "  <meta name=\"viewport\" content=\"width=device-width, initial-scale=1.0\">\n",
    "  <title>Image Processing with JS</title>\n",
    "</head>\n",
    "<body>\n",
    "  <label for=\"imageLink\">Image Link:</label>\n",
    "  <br>\n",
    "  <input type=\"text\" id=\"imageLink\" placeholder=\"Enter image link...\">\n",
    "  <br>\n",
    "  <button id=\"loadButton\" style=\"display: inline;\">Load Image</button>\n",
    "  <br>\n",
    "  <canvas id=\"canvas\" style=\"border: 1px solid #000;\"></canvas>\n",
    "  <br>\n",
    "  <button id=\"processButton\" style=\"display: none;\">Process Image to Binary</button>\n",
    "  <button id=\"reverseHexButton\" style=\"display: none;\">Reverse Hex Color</button>\n",
    "  <button id=\"originalButton\" style=\"display: none;\">Show Original Image</button>\n",
    "\n",
    "  \n",
    "\n",
    "  <script>\n",
    "    document.addEventListener('DOMContentLoaded', function() {\n",
    "      const canvas = document.getElementById('canvas');\n",
    "      const ctx = canvas.getContext('2d');\n",
    "      const loadButton = document.getElementById('loadButton');\n",
    "      const processButton = document.getElementById('processButton');\n",
    "      const originalButton = document.getElementById('originalButton');\n",
    "      const reverseHexButton = document.getElementById('reverseHexButton');\n",
    "      let img = new Image();\n",
    "\n",
    "      function clearCanvas() {\n",
    "        ctx.clearRect(0, 0, canvas.width, canvas.height);\n",
    "      }\n",
    "\n",
    "      function loadAndDisplayImage() {\n",
    "        const imageLink = document.getElementById('imageLink').value;\n",
    "        if (!imageLink) {\n",
    "          alert('Please enter an image link.');\n",
    "          return;\n",
    "        }\n",
    "        clearCanvas();\n",
    "        img.crossOrigin = 'Anonymous';\n",
    "        img.onload = function() {\n",
    "          canvas.width = img.width / 2;\n",
    "          canvas.height = img.height / 2;\n",
    "          ctx.drawImage(img, 0, 0, canvas.width, canvas.height);\n",
    "          processButton.style.display = 'inline';\n",
    "          reverseHexButton.style.display = 'inline';\n",
    "          originalButton.style.display = 'none';\n",
    "        };\n",
    "        img.onerror = function() {\n",
    "          alert('Error loading image. Please check the URL and try again.');\n",
    "          processButton.style.display = 'none';\n",
    "          reverseHexButton.style.display = 'none';\n",
    "          originalButton.style.display = 'none';\n",
    "        };\n",
    "        img.src = imageLink;\n",
    "      }\n",
    "\n",
    "      function convertToBinary() {\n",
    "        const imageData = ctx.getImageData(0, 0, canvas.width, canvas.height);\n",
    "        const data = imageData.data;\n",
    "        for (let i = 0; i < data.length; i += 4) {\n",
    "          const brightness = 0.34 * data[i] + 0.5 * data[i + 1] + 0.16 * data[i + 2];\n",
    "          const threshold = 128;\n",
    "          const color = brightness > threshold ? 255 : 0;\n",
    "          data[i] = data[i + 1] = data[i + 2] = color;\n",
    "        }\n",
    "        ctx.putImageData(imageData, 0, 0);\n",
    "        toggleButtonsAfterProcessing();\n",
    "      }\n",
    "\n",
    "      function reverseHexColor() {\n",
    "        const imageData = ctx.getImageData(0, 0, canvas.width, canvas.height);\n",
    "        const data = imageData.data;\n",
    "        for (let i = 0; i < data.length; i += 4) {\n",
    "          data[i] = 255 - data[i];       // Reverse Red\n",
    "          data[i + 1] = 255 - data[i + 1]; // Reverse Green\n",
    "          data[i + 2] = 255 - data[i + 2]; // Reverse Blue\n",
    "        }\n",
    "        ctx.putImageData(imageData, 0, 0);\n",
    "        toggleButtonsAfterProcessing();\n",
    "      }\n",
    "\n",
    "      function toggleButtonsAfterProcessing() {\n",
    "        processButton.style.display = 'none';\n",
    "        reverseHexButton.style.display = 'none';\n",
    "        originalButton.style.display = 'inline';\n",
    "      }\n",
    "\n",
    "      loadButton.addEventListener('click', loadAndDisplayImage);\n",
    "      processButton.addEventListener('click', convertToBinary);\n",
    "      reverseHexButton.addEventListener('click', reverseHexColor);\n",
    "      originalButton.addEventListener('click', () => {\n",
    "        if (img.complete && img.src) {\n",
    "          ctx.drawImage(img, 0, 0, canvas.width, canvas.height);\n",
    "          processButton.style.display = 'inline';\n",
    "          reverseHexButton.style.display = 'inline';\n",
    "          originalButton.style.display = 'none';\n",
    "        }\n",
    "      });\n",
    "    });"
   ]
  },
  {
   "cell_type": "markdown",
   "metadata": {},
   "source": [
    "## Key Points\n",
    "- Binary Representation with image pixals\n",
    "- Switch modes (black and white) etc\n",
    "- User can apply one image to go to original etc\n",
    "## Possible Improvements\n",
    "- Work on image adjustment\n",
    "- resizing\n",
    "- more elements for the feature\n",
    "\n",
    "[Website](https://nitinsandiego.github.io/binary_cpt_warmup//2023/11/26/Binary-Image-Processing.html)\n",
    "\n",
    "[Diagram](https://nitinsandiego.github.io/binary_cpt_warmup//2023/11/26/Binary-Image-processing-diagram.html)"
   ]
  },
  {
   "cell_type": "markdown",
   "metadata": {},
   "source": [
    "## Summary of all features\n",
    "\n",
    "# Binary Encryption\n",
    "This JavaScript code implements a basic binary encryption technique called XOR (exclusive OR) encryption. The binaryEncrypt function takes a plaintext and a key as input, converts them into binary representation using ASCII values, and performs a bitwise XOR operation between corresponding bits of the plaintext and a repeating key. The resulting binary string represents the encrypted data. The binaryDecrypt function reverses this process to decrypt the binary data back to the original text. It uses the same key and performs the XOR operation again. The binary representation is then converted back to text. The key is repeated to match the length of the input text. It's important to note that XOR encryption is a simple method and may not be suitable for secure applications. For actual security, established encryption algorithms and libraries should be considered. This code provides a basic illustration of binary encryption concepts for educational purposes, showcasing the XOR operation in a JavaScript context.\n",
    "\n",
    "# Image Processor \n",
    "The HTML file titled \"Image Processing with JS\" provides a user interface for loading and processing images using JavaScript. The webpage features an input field for entering an image link, along with buttons for loading the image, processing it to binary, reversing hex colors, and displaying the original image. The image is loaded onto an HTML canvas, and the processing functions manipulate the pixel data to achieve different effects. The \"Process Image to Binary\" button converts the image to binary by thresholding pixel brightness, and the \"Reverse Hex Color\" button inverses the RGB color values. The \"Show Original Image\" button restores the canvas to its original state. The JavaScript code utilizes the HTML5 canvas and image manipulation techniques to dynamically handle user interactions and perform image processing operations, providing an interactive platform for experimenting with simple image transformations.\n",
    "\n",
    "# Binary Logical Operators\n",
    "This HTML file titled \"Binary Logical Operations\" provides a user interface for performing basic binary logical operations. Users can input binary numbers in two fields, choose an operation from the dropdown menu (AND, OR, XOR, or NOT), and click the \"Calculate\" button to see the result. The interface dynamically adjusts to hide the second input field when the NOT operation is selected since it only requires one input. The JavaScript functions within the script tags handle the logic for performing the selected operation, displaying the binary result, and limiting the inputs and results to 8 bits for a byte-sized representation. The page serves as an interactive tool for exploring binary logical operations and understanding their outcomes.\n",
    "\n",
    "# Binary Puzzle \n",
    "The HTML file titled \"Binary Puzzle\" provides a web-based interface for a binary puzzle-solving game. The puzzle consists of a dynamically generated grid of cells that users can interact with by clicking to toggle the binary values (0, 1, or empty). The objective of the game is to fill the grid following certain rules, and when the user successfully completes the puzzle, an alert congratulates them. The interface includes controls for undoing and redoing moves, as well as a timer displaying the elapsed time since starting the puzzle. The JavaScript functions handle the logic for generating the grid, toggling cell values, managing a history of moves for undo and redo functionality, and checking the validity and completeness of the puzzle based on specified rules for rows and columns. Overall, the webpage offers an engaging interactive experience for solving binary puzzles.\n",
    "\n",
    "# Binary game\n",
    "The HTML file titled \"Binary Guessing Game\" presents an interactive game where players attempt to guess a randomly generated binary number within a specified range. The webpage includes a welcoming header and a user input section featuring an input field for binary guesses, constrained by a pattern for valid binary input (0s and 1s) with a maximum length of 8 digits. A \"Guess\" button triggers the JavaScript function makeAGuess(), which validates the user input, converts it to decimal, and provides feedback on whether the guess is correct or hints at whether it's too high or too low. The game dynamically adjusts the range of possible values based on the user's guesses, and the output is displayed in a designated div element. The game concludes with a congratulatory message upon successfully guessing the correct binary number, accompanied by the number of attempts made. Overall, the Binary Guessing Game offers an engaging and educational experience in binary number manipulation and guessing.\n",
    "\n",
    "# Binary Song Converter\n",
    "The HTML file titled \"Song to Binary Converter\" provides a simple yet effective tool for converting song lyrics into their binary representation. The webpage features a user-friendly interface with a heading announcing the purpose of the tool, a textarea for users to input song lyrics, and an output section displaying the binary representation of the entered lyrics. The JavaScript function convertToBinary() is triggered whenever the user inputs or modifies the song lyrics, converting each character into its ASCII code and then representing it as an 8-bit binary string. The resulting binary strings are concatenated with spaces and displayed in the designated output div. This tool allows users to explore the binary encoding of textual data, providing an educational and entertaining experience for those interested in the intersection of music and computing."
   ]
  },
  {
   "cell_type": "markdown",
   "metadata": {},
   "source": []
  }
 ],
 "metadata": {
  "language_info": {
   "name": "python"
  },
  "orig_nbformat": 4
 },
 "nbformat": 4,
 "nbformat_minor": 2
}
